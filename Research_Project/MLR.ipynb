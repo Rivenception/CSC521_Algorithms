{
  "nbformat": 4,
  "nbformat_minor": 0,
  "metadata": {
    "colab": {
      "provenance": [],
      "authorship_tag": "ABX9TyNCc6snn6LzmKBX4gHmQlEt",
      "include_colab_link": true
    },
    "kernelspec": {
      "name": "python3",
      "display_name": "Python 3"
    },
    "language_info": {
      "name": "python"
    }
  },
  "cells": [
    {
      "cell_type": "markdown",
      "metadata": {
        "id": "view-in-github",
        "colab_type": "text"
      },
      "source": [
        "<a href=\"https://colab.research.google.com/github/Rivenception/CSC521_Algorithms/blob/main/Research_Porejct%5CMLR.ipynb\" target=\"_parent\"><img src=\"https://colab.research.google.com/assets/colab-badge.svg\" alt=\"Open In Colab\"/></a>"
      ]
    },
    {
      "cell_type": "code",
      "source": [
        "# data source\n",
        "from google.colab import drive\n",
        "drive.mount('/content/drive')"
      ],
      "metadata": {
        "id": "sf0fr8ZDnHHY",
        "outputId": "e28b0b95-9568-4c2d-9cd0-8eb59a73e960",
        "colab": {
          "base_uri": "https://localhost:8080/"
        }
      },
      "execution_count": null,
      "outputs": [
        {
          "output_type": "stream",
          "name": "stdout",
          "text": [
            "Mounted at /content/drive\n"
          ]
        }
      ]
    },
    {
      "cell_type": "code",
      "execution_count": null,
      "metadata": {
        "colab": {
          "base_uri": "https://localhost:8080/"
        },
        "id": "KoYDOLzwm7FP",
        "outputId": "9246bb0c-6e16-4310-b4c4-eafeacc6b43f"
      },
      "outputs": [
        {
          "output_type": "stream",
          "name": "stdout",
          "text": [
            "Feature names (X): ['AMP_TMP', 'CO', 'NO', 'NO2', 'Nox', 'O3', 'PM10', 'PM2.5', 'RH', 'SO2', 'WD']\n",
            "Target variable name (y): WS\n",
            "-------------------------------------\n",
            "Estimated MLR Coefficients: ['-0.021', '-0.108', '0.012', '-0.050', '-0.021', '0.005', '0.005', '-0.018', '-0.014', '0.065', '-0.003']\n",
            "Intercept: 4.562\n",
            "-------------------------------------\n",
            "R^2 score on test set: 0.265\n",
            "-------------------------------------\n",
            "Mean Squared Error on training set: 0.295\n",
            "Mean Squared Error on testing set: 0.377\n",
            "-------------------------------------\n",
            "Mean Absolute Error on training set: 0.356\n",
            "Mean Absolute Error on testing set: 0.370\n",
            "-------------------------------------\n"
          ]
        }
      ],
      "source": [
        "import pandas as pd\n",
        "from sklearn import linear_model\n",
        "from sklearn.model_selection import train_test_split\n",
        "from sklearn.metrics import mean_squared_error, mean_absolute_error\n",
        "\n",
        "# Load the dataset\n",
        "df = pd.read_excel(\"/content/drive/My Drive/Dongshan stations.xlsx\")\n",
        "# df = pd.read_excel(\"Dongshan stations.xls\")\n",
        "\n",
        "# Strip whitespace from the column names (if any)\n",
        "df.columns = df.columns.str.strip()\n",
        "\n",
        "# Define the target variable (y) as the last column\n",
        "y = df.iloc[:, -1]  # Last column as y\n",
        "\n",
        "# Define the features (X) as all columns except the last\n",
        "X = df.iloc[:, :-1]  # All columns except the last as X\n",
        "\n",
        "# Display the names of the features and the target variable\n",
        "print(\"Feature names (X):\", X.columns.tolist())\n",
        "print(\"Target variable name (y):\", y.name)\n",
        "print(\"-------------------------------------\")\n",
        "\n",
        "# Split the dataset into training and testing sets\n",
        "X_train, X_test, y_train, y_test = train_test_split(X, y, test_size=0.2, random_state=0)\n",
        "\n",
        "# Create and fit the linear regression model\n",
        "linear = linear_model.LinearRegression()\n",
        "linear.fit(X_train, y_train)\n",
        "\n",
        "# Print coefficients and intercept\n",
        "print(\"Estimated MLR Coefficients:\", [f\"{coef:.3f}\" for coef in linear.coef_])\n",
        "print(\"Intercept:\", f\"{linear.intercept_:.3f}\")\n",
        "print(\"-------------------------------------\")\n",
        "\n",
        "# Evaluate the model using R^2 score\n",
        "r2_score = linear.score(X_test, y_test)\n",
        "print(\"R^2 score on test set:\", f\"{r2_score:.3f}\")\n",
        "print(\"-------------------------------------\")\n",
        "\n",
        "# Make predictions on training and testing sets\n",
        "y_train_pred = linear.predict(X_train)\n",
        "y_test_pred = linear.predict(X_test)\n",
        "\n",
        "# Calculate and print Mean Squared Error for training and testing sets\n",
        "mse_train = mean_squared_error(y_train, y_train_pred)\n",
        "mse_test = mean_squared_error(y_test, y_test_pred)\n",
        "\n",
        "mae_train = mean_absolute_error(y_train, y_train_pred)\n",
        "mae_test = mean_absolute_error(y_test, y_test_pred)\n",
        "\n",
        "print(\"Mean Squared Error on training set:\", f\"{mse_train:.3f}\")\n",
        "print(\"Mean Squared Error on testing set:\", f\"{mse_test:.3f}\")\n",
        "print(\"-------------------------------------\")\n",
        "\n",
        "print(\"Mean Absolute Error on training set:\", f\"{mae_train:.3f}\")\n",
        "print(\"Mean Absolute Error on testing set:\", f\"{mae_test:.3f}\")\n",
        "print(\"-------------------------------------\")"
      ]
    }
  ]
}
