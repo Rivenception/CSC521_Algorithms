{
  "nbformat": 4,
  "nbformat_minor": 0,
  "metadata": {
    "colab": {
      "provenance": [],
      "authorship_tag": "ABX9TyNR288WKyFEypezwJoKE+Rm",
      "include_colab_link": true
    },
    "kernelspec": {
      "name": "python3",
      "display_name": "Python 3"
    },
    "language_info": {
      "name": "python"
    }
  },
  "cells": [
    {
      "cell_type": "markdown",
      "metadata": {
        "id": "view-in-github",
        "colab_type": "text"
      },
      "source": [
        "<a href=\"https://colab.research.google.com/github/Rivenception/CSC521_Algorithms/blob/main/Quiz1_InsertionSort.ipynb\" target=\"_parent\"><img src=\"https://colab.research.google.com/assets/colab-badge.svg\" alt=\"Open In Colab\"/></a>"
      ]
    },
    {
      "cell_type": "markdown",
      "source": [
        "Rick Mingione\n",
        "CSC 521 Algorithms\n",
        "Insertion Sort Quiz 1\n",
        "\n",
        "Notes: I attempted to comment out this code and follow it to produce the outputs for the answers. Quiz questions and multiple choice at the end of this doc for reference.\n",
        "\n",
        "1. Answer B. Best Case is O(n) because if the array is already sorted the while loop will never run.\n",
        "2. Answer B. The worst case for insertion sort would be stepping through the while loop at each index which would mean the array is sorted completely in reverse.\n",
        "3. Answer C. The average time complexity for insertion sort is O(n^2) because in most cases an array won't be sorted and it would need to step through the while loop at least once making it a have this time complexity.\n",
        "4. Answer A. Insertion sort is considered a stable algorithm because when comparing two equal values it doesn't change their positions in the array.\n",
        "5. Answer B. Insertion sort would identify that j or index(0) of the initial array is 5 while i or index(1) is 3 so the while loop would be performed moving the 5 to the right then the key would be updated. In the while loop the is decremented again so j = -1 then the arr[j + 1] = key would move the key, which is 3 to index(0).\n",
        "6. Answer D. The exact line that places the key is arr[j + 1] = key.\n"
      ],
      "metadata": {
        "id": "LUj0VsmiAV1i"
      }
    },
    {
      "cell_type": "code",
      "execution_count": 13,
      "metadata": {
        "colab": {
          "base_uri": "https://localhost:8080/",
          "height": 0
        },
        "id": "_hM2Y4_QAOv9",
        "outputId": "0aa7627c-de1c-4318-9ee2-58b47bb33026"
      },
      "outputs": [
        {
          "output_type": "stream",
          "name": "stdout",
          "text": [
            "Original Array: [5, 3, 8, 6, 2]\n",
            "Key: 3\n",
            "Move 5 to index 1\n",
            "Place 3 at index 0\n",
            "Pass 1 : [3, 5, 8, 6, 2]\n",
            "Key: 8\n",
            "Place 8 at index 2\n",
            "Pass 2 : [3, 5, 8, 6, 2]\n",
            "Key: 6\n",
            "Move 8 to index 3\n",
            "Place 6 at index 2\n",
            "Pass 3 : [3, 5, 6, 8, 2]\n",
            "Key: 2\n",
            "Move 8 to index 4\n",
            "Move 6 to index 3\n",
            "Move 5 to index 2\n",
            "Move 3 to index 1\n",
            "Place 2 at index 0\n",
            "Pass 4 : [2, 3, 5, 6, 8]\n",
            "Sorted Array: [2, 3, 5, 6, 8]\n"
          ]
        }
      ],
      "source": [
        "#Average Case/Worst Case Insertion Sort\n",
        "def insertion_sort(arr):\n",
        "    pass_number = 1  # Initialize the pass number\n",
        "    # Traverse from the second element to the end\n",
        "    for i in range(1, len(arr)): #O(n)\n",
        "        key = arr[i]\n",
        "        print(\"Key:\", key)\n",
        "        j = i - 1 #index j is to to the left side of i.\n",
        "\n",
        "        # Move elements of arr[0..i-1] that are greater than key\n",
        "        # to one position ahead of their current position\n",
        "        while j >= 0 and arr[j] > key: #O(n)\n",
        "            arr[j + 1] = arr[j]\n",
        "            print(\"Move\", arr[j+1], \"to index\", j + 1)\n",
        "            j -= 1\n",
        "\n",
        "        # Place key at the correct position\n",
        "        arr[j + 1] = key\n",
        "        print(\"Place\", key, \"at index\", j + 1)\n",
        "        print(\"Pass\", pass_number, \":\", arr)  # Print the initial array\n",
        "        pass_number += 1\n",
        "\n",
        "# Example usage\n",
        "array = [5, 3, 8, 6, 2]\n",
        "print(\"Original Array:\", array)\n",
        "insertion_sort(array)\n",
        "print(\"Sorted Array:\", array)"
      ]
    },
    {
      "cell_type": "code",
      "source": [
        "# Best Case Insertion Sort\n",
        "def insertion_sort(arr):\n",
        "    pass_number = 1  # Initialize the pass number\n",
        "    # Traverse from the second element to the end\n",
        "    for i in range(1, len(arr)): #O(n)\n",
        "        key = arr[i]\n",
        "        print(\"Key:\", key)\n",
        "        j = i - 1 #index j is to to the left side of i.\n",
        "\n",
        "        # Move elements of arr[0..i-1] that are greater than key\n",
        "        # to one position ahead of their current position\n",
        "        while j >= 0 and arr[j] > key: #O(n)\n",
        "            arr[j + 1] = arr[j]\n",
        "            print(\"Move\", arr[j+1], \"to index\", j + 1)\n",
        "            j -= 1\n",
        "\n",
        "        # Place key at the correct position\n",
        "        arr[j + 1] = key\n",
        "        print(\"Place\", key, \"at index\", j + 1)\n",
        "        print(\"Pass\", pass_number, \":\", arr)  # Print the initial array\n",
        "        pass_number += 1\n",
        "\n",
        "# Example usage\n",
        "array = [1, 2, 3, 4]\n",
        "print(\"Original Array:\", array)\n",
        "insertion_sort(array)\n",
        "print(\"Sorted Array:\", array)"
      ],
      "metadata": {
        "colab": {
          "base_uri": "https://localhost:8080/",
          "height": 0
        },
        "id": "XutDDcJJgHbJ",
        "outputId": "85423f10-a009-4c6a-b354-702558b77462"
      },
      "execution_count": 15,
      "outputs": [
        {
          "output_type": "stream",
          "name": "stdout",
          "text": [
            "Original Array: [1, 2, 3, 4]\n",
            "Key: 2\n",
            "Place 2 at index 1\n",
            "Pass 1 : [1, 2, 3, 4]\n",
            "Key: 3\n",
            "Place 3 at index 2\n",
            "Pass 2 : [1, 2, 3, 4]\n",
            "Key: 4\n",
            "Place 4 at index 3\n",
            "Pass 3 : [1, 2, 3, 4]\n",
            "Sorted Array: [1, 2, 3, 4]\n"
          ]
        }
      ]
    },
    {
      "cell_type": "code",
      "source": [
        "#Worst Case Insertion Sort\n",
        "def insertion_sort(arr):\n",
        "    pass_number = 1  # Initialize the pass number\n",
        "    # Traverse from the second element to the end\n",
        "    for i in range(1, len(arr)): #O(n)\n",
        "        key = arr[i]\n",
        "        print(\"Key:\", key)\n",
        "        j = i - 1 #index j is to to the left side of i.\n",
        "\n",
        "        # Move elements of arr[0..i-1] that are greater than key\n",
        "        # to one position ahead of their current position\n",
        "        while j >= 0 and arr[j] > key: #O(n)\n",
        "            arr[j + 1] = arr[j]\n",
        "            print(\"Move\", arr[j+1], \"to index\", j + 1)\n",
        "            j -= 1\n",
        "\n",
        "        # Place key at the correct position\n",
        "        arr[j + 1] = key\n",
        "        print(\"Place\", key, \"at index\", j + 1)\n",
        "        print(\"Pass\", pass_number, \":\", arr)  # Print the initial array\n",
        "        pass_number += 1\n",
        "\n",
        "# Example usage\n",
        "array = [4, 3, 2, 1]\n",
        "print(\"Original Array:\", array)\n",
        "insertion_sort(array)\n",
        "print(\"Sorted Array:\", array)"
      ],
      "metadata": {
        "colab": {
          "base_uri": "https://localhost:8080/",
          "height": 0
        },
        "id": "OqDqr_cogo_F",
        "outputId": "ca48b4fe-cda0-4610-fc93-de01f8af9fcf"
      },
      "execution_count": 16,
      "outputs": [
        {
          "output_type": "stream",
          "name": "stdout",
          "text": [
            "Original Array: [4, 3, 2, 1]\n",
            "Key: 3\n",
            "Move 4 to index 1\n",
            "Place 3 at index 0\n",
            "Pass 1 : [3, 4, 2, 1]\n",
            "Key: 2\n",
            "Move 4 to index 2\n",
            "Move 3 to index 1\n",
            "Place 2 at index 0\n",
            "Pass 2 : [2, 3, 4, 1]\n",
            "Key: 1\n",
            "Move 4 to index 3\n",
            "Move 3 to index 2\n",
            "Move 2 to index 1\n",
            "Place 1 at index 0\n",
            "Pass 3 : [1, 2, 3, 4]\n",
            "Sorted Array: [1, 2, 3, 4]\n"
          ]
        }
      ]
    },
    {
      "cell_type": "markdown",
      "source": [
        "**Multiple Choice Take Home Quiz 1**\n",
        "\n",
        "\n",
        "**1. What is the best-case time complexity of insertion\n",
        "sort?**\n",
        "\n",
        "a. O(n log n)\n",
        "\n",
        "b. O(n)\n",
        "\n",
        "c. O(n2)\n",
        "\n",
        "d. O(1)\n",
        "\n",
        "\n",
        "**2. In which scenario does insertion sort perform at its\n",
        "worst time complexity?**\n",
        "\n",
        "a. When the array is already sorted\n",
        "\n",
        "b. When the array is in reverse order\n",
        "\n",
        "c. When the array has only one element\n",
        "\n",
        "d. When the array has no elements\n",
        "\n",
        "\n",
        "**3. What is the average-case time complexity of insertion\n",
        "sort?**\n",
        "\n",
        "a. O(n)\n",
        "\n",
        "b. O(n log n)\n",
        "\n",
        "c. O(n2)\n",
        "\n",
        "d. O(log n)\n",
        "\n",
        "\n",
        "**4. Which of the following statements is true about insertion sort?**\n",
        "\n",
        "a. It is a stable sorting algorithm.\n",
        "\n",
        "b. It is an unstable sorting algorithm.\n",
        "\n",
        "c. It requires additional space proportional to the\n",
        "number of elements.\n",
        "\n",
        "d. It can only sort arrays with integer elements.\n",
        "\n",
        "\n",
        "**5. Given the array [4, 3, 2, 1], what is the state of the\n",
        "array after the first pass of insertion sort?**\n",
        "\n",
        "A) [4, 3, 2, 1]\n",
        "\n",
        "B) [3, 4, 2, 1]\n",
        "\n",
        "C) [2, 4, 3, 1]\n",
        "\n",
        "D) [1, 4, 3, 2]\n",
        "\n",
        "\n",
        "**6. Which part of the insertion sort algorithm is responsible for placing the ‘key‘ element in its correct position?**\n",
        "\n",
        "a. The outer ‘for‘ loop\n",
        "\n",
        "b. The inner ‘while‘ loop\n",
        "\n",
        "c. The ‘key‘ variable assignment\n",
        "\n",
        "d. The ‘arr[j + 1] = key‘ statement\n"
      ],
      "metadata": {
        "id": "3lkAc33ii_YG"
      }
    }
  ]
}