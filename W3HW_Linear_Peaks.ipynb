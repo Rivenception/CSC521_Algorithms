{
  "nbformat": 4,
  "nbformat_minor": 0,
  "metadata": {
    "colab": {
      "provenance": [],
      "authorship_tag": "ABX9TyMsCR/5mJBhJPAP2/0xmUp0",
      "include_colab_link": true
    },
    "kernelspec": {
      "name": "python3",
      "display_name": "Python 3"
    },
    "language_info": {
      "name": "python"
    }
  },
  "cells": [
    {
      "cell_type": "markdown",
      "metadata": {
        "id": "view-in-github",
        "colab_type": "text"
      },
      "source": [
        "<a href=\"https://colab.research.google.com/github/Rivenception/CSC521_Algorithms/blob/main/W3HW_Linear_Peaks.ipynb\" target=\"_parent\"><img src=\"https://colab.research.google.com/assets/colab-badge.svg\" alt=\"Open In Colab\"/></a>"
      ]
    },
    {
      "cell_type": "markdown",
      "source": [
        "**Richard Mingione**\n",
        "**CSC 521: Algorithms**"
      ],
      "metadata": {
        "id": "2fY6uW4JbeeX"
      }
    },
    {
      "cell_type": "markdown",
      "source": [
        "This is for W3HW assignment with the following information:\n",
        "\n",
        "**Problem Statement**\n",
        "\n",
        "You are given a one-dimensional array representing the values of a function f(x) sampled at discrete points. Your task is to write a Python function that finds a peak in this array. A peak is defined as an element that is greater than or equal to its neighbors. The function should be able to handle arrays where multiple peaks may exist, and it should return the index of one peak.\n",
        "\n",
        "**Summary of Work**\n",
        "\n",
        "I have limited experience in python so I decided to add a function for a random array to practice. I used chatGPT to help with error codes until I was able to get the correct syntax. The code written below for the create_array function is a combination of the syntax provided by Dr. Sheta for the find_peak_linear function from class as well as my own input. I had to test the outputs multiple times to get the correct output. I consulted chatGPT to import the \"random\" module and for the syntax for the append (my knowledge of coding on the backend is in javascript.) I made the practice of commenting out my code as well."
      ],
      "metadata": {
        "id": "8V0jz1WvZLb8"
      }
    },
    {
      "cell_type": "code",
      "source": [
        "#Import random package in python to create a dynamic table\n",
        "import random\n",
        "\n",
        "randList = []\n",
        "\n",
        "def create_array(randArr):\n",
        "  global count\n",
        "  count = 0\n",
        "  n = randArr\n",
        "  for i in range(n):\n",
        "    count =+1\n",
        "    rand_int = random.randint(1,30)\n",
        "    randList.append(rand_int)\n",
        "  return\n",
        "\n",
        "#Calling the function with an array with length 10\n",
        "create_array(10)\n",
        "print(randList)"
      ],
      "metadata": {
        "colab": {
          "base_uri": "https://localhost:8080/"
        },
        "id": "QlrGK67JRsGJ",
        "outputId": "914fa6a7-6698-4c53-f78b-b160abdb0e51"
      },
      "execution_count": null,
      "outputs": [
        {
          "output_type": "stream",
          "name": "stdout",
          "text": [
            "[12, 27, 18, 14, 12, 20, 30, 3, 24, 3]\n"
          ]
        }
      ]
    },
    {
      "cell_type": "code",
      "execution_count": null,
      "metadata": {
        "id": "mw2YVrjchxWj"
      },
      "outputs": [],
      "source": [
        "#Direct port of the code shared in class. Function to check left and right of a number in an array to determine a peak.\n",
        "linear_count = 0\n",
        "\n",
        "def find_peak_linear(arr):\n",
        "  global linear_count\n",
        "  linear_count = 0\n",
        "  n = len(arr)\n",
        "  for i in range(n):\n",
        "    linear_count +=1\n",
        "    if(i == 0 or arr[i] >= arr[i - 1]) and (i == n - 1 or arr[i] >= arr[i + 1]):\n",
        "      return arr[i]\n",
        "  return None"
      ]
    },
    {
      "cell_type": "code",
      "source": [
        "#This is to print out the list in python. The format calls the array into the brackets.\n",
        "print(\"The array for this example is {}\".format(randList))\n",
        "arr1 = randList\n",
        "\n",
        "peak_linear_1 = find_peak_linear(arr1)\n",
        "\n",
        "#The \"f\" in the below print function allows the print command to call the funciton we are defining above.\n",
        "print(f\"The first peak in this array is: {peak_linear_1}\")\n",
        "print(\"\")\n"
      ],
      "metadata": {
        "colab": {
          "base_uri": "https://localhost:8080/"
        },
        "id": "fuFjq4-L5Jn7",
        "outputId": "f4d316de-a410-492a-df21-a4a5f1ffdb53"
      },
      "execution_count": null,
      "outputs": [
        {
          "output_type": "stream",
          "name": "stdout",
          "text": [
            "The array for this example is [12, 27, 18, 14, 12, 20, 30, 3, 24, 3]\n",
            "The first peak in this array is: 27\n",
            "\n"
          ]
        }
      ]
    }
  ]
}