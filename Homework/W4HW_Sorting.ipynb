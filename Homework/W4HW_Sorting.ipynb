{
  "nbformat": 4,
  "nbformat_minor": 0,
  "metadata": {
    "colab": {
      "provenance": [],
      "authorship_tag": "ABX9TyPvl0HTDZccO6wwnD1YDP13",
      "include_colab_link": true
    },
    "kernelspec": {
      "name": "python3",
      "display_name": "Python 3"
    },
    "language_info": {
      "name": "python"
    }
  },
  "cells": [
    {
      "cell_type": "markdown",
      "metadata": {
        "id": "view-in-github",
        "colab_type": "text"
      },
      "source": [
        "<a href=\"https://colab.research.google.com/github/Rivenception/CSC521_Algorithms/blob/main/W4HW_Sorting.ipynb\" target=\"_parent\"><img src=\"https://colab.research.google.com/assets/colab-badge.svg\" alt=\"Open In Colab\"/></a>"
      ]
    },
    {
      "cell_type": "markdown",
      "source": [
        "**Richard Mingione**\n",
        "**CSC 521: Algorithms**"
      ],
      "metadata": {
        "id": "2fY6uW4JbeeX"
      }
    },
    {
      "cell_type": "markdown",
      "source": [
        "This is for W4HW assignment with the following information:\n",
        "\n",
        "**Problem Statement**\n",
        "\n",
        "Create a selection sort and bubble sort function.\n",
        "\n",
        "**Summary of Work**\n",
        "\n",
        "I have limited experience in python so for this assignment I kept my create_array function to create a length(10) random array to work with. My process for this assignment was as follows. First, I re-reviewed the class slides to see if the code was given to us. Then, I checked Dr. Sheta's youtube to see if the code was provided as well but I didn't find any material that had the code given. I then attempted many iterations of code myself with the help of chatGPT to deal with errors using a print statement to check my results along the way. This took me a long time to trouble shoot. Ultimately, my reliance on chatGPT was more than I would've liked to get these functions working properly but I did learn a few things along the way and make sure to comment out every line of code so that I can practice reading and understanding each line and it's function.\n",
        "\n",
        "Some of the main take aways from this exercise was that it seems the global count and counting is not necessary to write out in python as I've experienced in other languages. Additionally, I did discover that python has a native swapping syntax called tuple unpacking for switching two values in an array. This makes it much more efficient to write than in other languages if you are aware of it. I chose to use the tuple unpacking code in my selection sort function.\n",
        "\n",
        "Finally, I reached out to Maria Giugno from class to double check if there was any code that I missed from the Professor. She forwarded me the code she found on Professor Sheta YT account and I made very small adjustments to include some print statements inside of my functions to show the code iterating."
      ],
      "metadata": {
        "id": "8V0jz1WvZLb8"
      }
    },
    {
      "cell_type": "code",
      "source": [
        "#Import random package in python to create a dynamic table\n",
        "import random\n",
        "\n",
        "randList = []\n",
        "\n",
        "def create_array(randArr):\n",
        "  global count\n",
        "  count = 0\n",
        "  n = randArr\n",
        "  for i in range(n):\n",
        "    count =+1\n",
        "    rand_int = random.randint(1,30)\n",
        "    randList.append(rand_int)\n",
        "  return\n",
        "\n",
        "#Calling the function with an array with length 10\n",
        "create_array(10)\n",
        "print(\"Random Array: {}\".format(randList))"
      ],
      "metadata": {
        "colab": {
          "base_uri": "https://localhost:8080/"
        },
        "id": "QlrGK67JRsGJ",
        "outputId": "b86a747d-1171-4a3f-f41e-e0bf6d5aa43b"
      },
      "execution_count": null,
      "outputs": [
        {
          "output_type": "stream",
          "name": "stdout",
          "text": [
            "Random Array: [24, 9, 9, 7, 7, 14, 22, 29, 10, 1]\n"
          ]
        }
      ]
    },
    {
      "cell_type": "code",
      "source": [
        "#This is the selection sort algorithm\n",
        "sel_arr = randList.copy() #copying the random array to a new array list\n",
        "\n",
        "def selection_sort(sel_arr):\n",
        "  n = len(sel_arr)\n",
        "  for i in range(n):\n",
        "    min_idx = i #using this to hold where the minimum index number of our array is located\n",
        "    for j in range(i+1, n): #making sure to select the range of the array that is to the right of our minimum\n",
        "      if sel_arr[j] < sel_arr[min_idx]: #if the number to the right of our minimum is smaller this will change the index\n",
        "        min_idx = j\n",
        "      sel_arr[i], sel_arr[min_idx] = sel_arr[min_idx], sel_arr[i] #learned that in python there is a special function to swap two values in an array called tuple unpacking\n",
        "      print(\"After iteration\", i+1, \":\", sel_arr)\n",
        "  return sel_arr\n",
        "\n",
        "check_sel = selection_sort(sel_arr)\n",
        "print(\"\")\n",
        "print(\"Original Array:\", randList)\n",
        "print(\"Selection Sorted Array: {}\".format(check_sel))\n",
        "print(\"\")"
      ],
      "metadata": {
        "colab": {
          "base_uri": "https://localhost:8080/"
        },
        "id": "BWzPnJW5BAzy",
        "outputId": "4446a412-257b-4e63-fe66-34e1863131fb"
      },
      "execution_count": null,
      "outputs": [
        {
          "output_type": "stream",
          "name": "stdout",
          "text": [
            "After iteration 1 : [9, 24, 9, 7, 7, 14, 22, 29, 10, 1]\n",
            "After iteration 1 : [9, 24, 9, 7, 7, 14, 22, 29, 10, 1]\n",
            "After iteration 1 : [7, 24, 9, 9, 7, 14, 22, 29, 10, 1]\n",
            "After iteration 1 : [7, 24, 9, 9, 7, 14, 22, 29, 10, 1]\n",
            "After iteration 1 : [7, 24, 9, 9, 7, 14, 22, 29, 10, 1]\n",
            "After iteration 1 : [7, 24, 9, 9, 7, 14, 22, 29, 10, 1]\n",
            "After iteration 1 : [7, 24, 9, 9, 7, 14, 22, 29, 10, 1]\n",
            "After iteration 1 : [7, 24, 9, 9, 7, 14, 22, 29, 10, 1]\n",
            "After iteration 1 : [1, 24, 9, 9, 7, 14, 22, 29, 10, 7]\n",
            "After iteration 2 : [1, 9, 24, 9, 7, 14, 22, 29, 10, 7]\n",
            "After iteration 2 : [1, 9, 24, 9, 7, 14, 22, 29, 10, 7]\n",
            "After iteration 2 : [1, 7, 24, 9, 9, 14, 22, 29, 10, 7]\n",
            "After iteration 2 : [1, 9, 24, 9, 7, 14, 22, 29, 10, 7]\n",
            "After iteration 2 : [1, 7, 24, 9, 9, 14, 22, 29, 10, 7]\n",
            "After iteration 2 : [1, 9, 24, 9, 7, 14, 22, 29, 10, 7]\n",
            "After iteration 2 : [1, 7, 24, 9, 9, 14, 22, 29, 10, 7]\n",
            "After iteration 2 : [1, 7, 24, 9, 9, 14, 22, 29, 10, 7]\n",
            "After iteration 3 : [1, 7, 9, 24, 9, 14, 22, 29, 10, 7]\n",
            "After iteration 3 : [1, 7, 9, 24, 9, 14, 22, 29, 10, 7]\n",
            "After iteration 3 : [1, 7, 9, 24, 9, 14, 22, 29, 10, 7]\n",
            "After iteration 3 : [1, 7, 9, 24, 9, 14, 22, 29, 10, 7]\n",
            "After iteration 3 : [1, 7, 9, 24, 9, 14, 22, 29, 10, 7]\n",
            "After iteration 3 : [1, 7, 9, 24, 9, 14, 22, 29, 10, 7]\n",
            "After iteration 3 : [1, 7, 7, 24, 9, 14, 22, 29, 10, 9]\n",
            "After iteration 4 : [1, 7, 7, 9, 24, 14, 22, 29, 10, 9]\n",
            "After iteration 4 : [1, 7, 7, 14, 24, 9, 22, 29, 10, 9]\n",
            "After iteration 4 : [1, 7, 7, 9, 24, 14, 22, 29, 10, 9]\n",
            "After iteration 4 : [1, 7, 7, 14, 24, 9, 22, 29, 10, 9]\n",
            "After iteration 4 : [1, 7, 7, 9, 24, 14, 22, 29, 10, 9]\n",
            "After iteration 4 : [1, 7, 7, 9, 24, 14, 22, 29, 10, 9]\n",
            "After iteration 5 : [1, 7, 7, 9, 14, 24, 22, 29, 10, 9]\n",
            "After iteration 5 : [1, 7, 7, 9, 22, 24, 14, 29, 10, 9]\n",
            "After iteration 5 : [1, 7, 7, 9, 14, 24, 22, 29, 10, 9]\n",
            "After iteration 5 : [1, 7, 7, 9, 10, 24, 22, 29, 14, 9]\n",
            "After iteration 5 : [1, 7, 7, 9, 9, 24, 22, 29, 14, 10]\n",
            "After iteration 6 : [1, 7, 7, 9, 9, 22, 24, 29, 14, 10]\n",
            "After iteration 6 : [1, 7, 7, 9, 9, 24, 22, 29, 14, 10]\n",
            "After iteration 6 : [1, 7, 7, 9, 9, 14, 22, 29, 24, 10]\n",
            "After iteration 6 : [1, 7, 7, 9, 9, 10, 22, 29, 24, 14]\n",
            "After iteration 7 : [1, 7, 7, 9, 9, 10, 22, 29, 24, 14]\n",
            "After iteration 7 : [1, 7, 7, 9, 9, 10, 22, 29, 24, 14]\n",
            "After iteration 7 : [1, 7, 7, 9, 9, 10, 14, 29, 24, 22]\n",
            "After iteration 8 : [1, 7, 7, 9, 9, 10, 14, 24, 29, 22]\n",
            "After iteration 8 : [1, 7, 7, 9, 9, 10, 14, 22, 29, 24]\n",
            "After iteration 9 : [1, 7, 7, 9, 9, 10, 14, 22, 24, 29]\n",
            "\n",
            "Original Array: [24, 9, 9, 7, 7, 14, 22, 29, 10, 1]\n",
            "Selection Sorted Array: [1, 7, 7, 9, 9, 10, 14, 22, 24, 29]\n",
            "\n"
          ]
        }
      ]
    },
    {
      "cell_type": "code",
      "execution_count": null,
      "metadata": {
        "id": "mw2YVrjchxWj",
        "colab": {
          "base_uri": "https://localhost:8080/"
        },
        "outputId": "d166353a-514b-4777-d16b-16dd68fb66c2"
      },
      "outputs": [
        {
          "output_type": "stream",
          "name": "stdout",
          "text": [
            "Step [9, 24, 9, 7, 7, 14, 22, 29, 10, 1]\n",
            "After pass 1 : [9, 24, 9, 7, 7, 14, 22, 29, 10, 1]\n",
            "\n",
            "Step [9, 9, 24, 7, 7, 14, 22, 29, 10, 1]\n",
            "After pass 1 : [9, 9, 24, 7, 7, 14, 22, 29, 10, 1]\n",
            "\n",
            "Step [9, 9, 7, 24, 7, 14, 22, 29, 10, 1]\n",
            "After pass 1 : [9, 9, 7, 24, 7, 14, 22, 29, 10, 1]\n",
            "\n",
            "Step [9, 9, 7, 7, 24, 14, 22, 29, 10, 1]\n",
            "After pass 1 : [9, 9, 7, 7, 24, 14, 22, 29, 10, 1]\n",
            "\n",
            "Step [9, 9, 7, 7, 14, 24, 22, 29, 10, 1]\n",
            "After pass 1 : [9, 9, 7, 7, 14, 24, 22, 29, 10, 1]\n",
            "\n",
            "Step [9, 9, 7, 7, 14, 22, 24, 29, 10, 1]\n",
            "After pass 1 : [9, 9, 7, 7, 14, 22, 24, 29, 10, 1]\n",
            "\n",
            "After pass 1 : [9, 9, 7, 7, 14, 22, 24, 29, 10, 1]\n",
            "\n",
            "Step [9, 9, 7, 7, 14, 22, 24, 10, 29, 1]\n",
            "After pass 1 : [9, 9, 7, 7, 14, 22, 24, 10, 29, 1]\n",
            "\n",
            "Step [9, 9, 7, 7, 14, 22, 24, 10, 1, 29]\n",
            "After pass 1 : [9, 9, 7, 7, 14, 22, 24, 10, 1, 29]\n",
            "\n",
            "After pass 2 : [9, 9, 7, 7, 14, 22, 24, 10, 1, 29]\n",
            "\n",
            "Step [9, 7, 9, 7, 14, 22, 24, 10, 1, 29]\n",
            "After pass 2 : [9, 7, 9, 7, 14, 22, 24, 10, 1, 29]\n",
            "\n",
            "Step [9, 7, 7, 9, 14, 22, 24, 10, 1, 29]\n",
            "After pass 2 : [9, 7, 7, 9, 14, 22, 24, 10, 1, 29]\n",
            "\n",
            "After pass 2 : [9, 7, 7, 9, 14, 22, 24, 10, 1, 29]\n",
            "\n",
            "After pass 2 : [9, 7, 7, 9, 14, 22, 24, 10, 1, 29]\n",
            "\n",
            "After pass 2 : [9, 7, 7, 9, 14, 22, 24, 10, 1, 29]\n",
            "\n",
            "Step [9, 7, 7, 9, 14, 22, 10, 24, 1, 29]\n",
            "After pass 2 : [9, 7, 7, 9, 14, 22, 10, 24, 1, 29]\n",
            "\n",
            "Step [9, 7, 7, 9, 14, 22, 10, 1, 24, 29]\n",
            "After pass 2 : [9, 7, 7, 9, 14, 22, 10, 1, 24, 29]\n",
            "\n",
            "Step [7, 9, 7, 9, 14, 22, 10, 1, 24, 29]\n",
            "After pass 3 : [7, 9, 7, 9, 14, 22, 10, 1, 24, 29]\n",
            "\n",
            "Step [7, 7, 9, 9, 14, 22, 10, 1, 24, 29]\n",
            "After pass 3 : [7, 7, 9, 9, 14, 22, 10, 1, 24, 29]\n",
            "\n",
            "After pass 3 : [7, 7, 9, 9, 14, 22, 10, 1, 24, 29]\n",
            "\n",
            "After pass 3 : [7, 7, 9, 9, 14, 22, 10, 1, 24, 29]\n",
            "\n",
            "After pass 3 : [7, 7, 9, 9, 14, 22, 10, 1, 24, 29]\n",
            "\n",
            "Step [7, 7, 9, 9, 14, 10, 22, 1, 24, 29]\n",
            "After pass 3 : [7, 7, 9, 9, 14, 10, 22, 1, 24, 29]\n",
            "\n",
            "Step [7, 7, 9, 9, 14, 10, 1, 22, 24, 29]\n",
            "After pass 3 : [7, 7, 9, 9, 14, 10, 1, 22, 24, 29]\n",
            "\n",
            "After pass 4 : [7, 7, 9, 9, 14, 10, 1, 22, 24, 29]\n",
            "\n",
            "After pass 4 : [7, 7, 9, 9, 14, 10, 1, 22, 24, 29]\n",
            "\n",
            "After pass 4 : [7, 7, 9, 9, 14, 10, 1, 22, 24, 29]\n",
            "\n",
            "After pass 4 : [7, 7, 9, 9, 14, 10, 1, 22, 24, 29]\n",
            "\n",
            "Step [7, 7, 9, 9, 10, 14, 1, 22, 24, 29]\n",
            "After pass 4 : [7, 7, 9, 9, 10, 14, 1, 22, 24, 29]\n",
            "\n",
            "Step [7, 7, 9, 9, 10, 1, 14, 22, 24, 29]\n",
            "After pass 4 : [7, 7, 9, 9, 10, 1, 14, 22, 24, 29]\n",
            "\n",
            "After pass 5 : [7, 7, 9, 9, 10, 1, 14, 22, 24, 29]\n",
            "\n",
            "After pass 5 : [7, 7, 9, 9, 10, 1, 14, 22, 24, 29]\n",
            "\n",
            "After pass 5 : [7, 7, 9, 9, 10, 1, 14, 22, 24, 29]\n",
            "\n",
            "After pass 5 : [7, 7, 9, 9, 10, 1, 14, 22, 24, 29]\n",
            "\n",
            "Step [7, 7, 9, 9, 1, 10, 14, 22, 24, 29]\n",
            "After pass 5 : [7, 7, 9, 9, 1, 10, 14, 22, 24, 29]\n",
            "\n",
            "After pass 6 : [7, 7, 9, 9, 1, 10, 14, 22, 24, 29]\n",
            "\n",
            "After pass 6 : [7, 7, 9, 9, 1, 10, 14, 22, 24, 29]\n",
            "\n",
            "After pass 6 : [7, 7, 9, 9, 1, 10, 14, 22, 24, 29]\n",
            "\n",
            "Step [7, 7, 9, 1, 9, 10, 14, 22, 24, 29]\n",
            "After pass 6 : [7, 7, 9, 1, 9, 10, 14, 22, 24, 29]\n",
            "\n",
            "After pass 7 : [7, 7, 9, 1, 9, 10, 14, 22, 24, 29]\n",
            "\n",
            "After pass 7 : [7, 7, 9, 1, 9, 10, 14, 22, 24, 29]\n",
            "\n",
            "Step [7, 7, 1, 9, 9, 10, 14, 22, 24, 29]\n",
            "After pass 7 : [7, 7, 1, 9, 9, 10, 14, 22, 24, 29]\n",
            "\n",
            "After pass 8 : [7, 7, 1, 9, 9, 10, 14, 22, 24, 29]\n",
            "\n",
            "Step [7, 1, 7, 9, 9, 10, 14, 22, 24, 29]\n",
            "After pass 8 : [7, 1, 7, 9, 9, 10, 14, 22, 24, 29]\n",
            "\n",
            "Step [1, 7, 7, 9, 9, 10, 14, 22, 24, 29]\n",
            "After pass 9 : [1, 7, 7, 9, 9, 10, 14, 22, 24, 29]\n",
            "\n",
            "\n",
            "Original Array: [24, 9, 9, 7, 7, 14, 22, 29, 10, 1]\n",
            "Bubble Sorted Array: [1, 7, 7, 9, 9, 10, 14, 22, 24, 29]\n",
            "\n"
          ]
        }
      ],
      "source": [
        "#This is the bubble sort algorithm.\n",
        "bub_arr = randList.copy() #this is to make sure our random array does not get altered.\n",
        "\n",
        "def bubble_sort(bub_arr):\n",
        "  n = len(bub_arr)\n",
        "  for i in range(n):\n",
        "    for j in range(0, n-i-1):\n",
        "      if bub_arr[j] > bub_arr[j+1]: #checking if the number in array at position j is greater than the number to the right of it.\n",
        "        temp = bub_arr[j] #holding the first value temporarily\n",
        "        bub_arr[j] = bub_arr[j+1] #swapping the second value with the first value\n",
        "        bub_arr[j+1] = temp #replacing the second value\n",
        "        print(\"Step\",bub_arr)\n",
        "      print(\"After pass\", i+1, \":\", bub_arr)\n",
        "      print(\"\")\n",
        "  return bub_arr\n",
        "\n",
        "check_bub = bubble_sort(bub_arr)\n",
        "print(\"\")\n",
        "print(\"Original Array:\", randList)\n",
        "print(\"Bubble Sorted Array: {}\".format(check_bub))\n",
        "print(\"\")"
      ]
    }
  ]
}
